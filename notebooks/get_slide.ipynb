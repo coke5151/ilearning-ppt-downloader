{
 "cells": [
  {
   "cell_type": "code",
   "execution_count": 1,
   "metadata": {},
   "outputs": [],
   "source": [
    "import sys"
   ]
  },
  {
   "cell_type": "code",
   "execution_count": 2,
   "metadata": {},
   "outputs": [],
   "source": [
    "sys.path.append(\"..\")\n"
   ]
  },
  {
   "cell_type": "code",
   "execution_count": 3,
   "metadata": {},
   "outputs": [
    {
     "name": "stdout",
     "output_type": "stream",
     "text": [
      "欢迎使用ddddocr，本项目专注带动行业内卷，个人博客:wenanzhe.com\n",
      "训练数据支持来源于:http://146.56.204.113:19199/preview\n",
      "爬虫框架feapder可快速一键接入，快速开启爬虫之旅：https://github.com/Boris-code/feapder\n",
      "谷歌reCaptcha验证码 / hCaptcha验证码 / funCaptcha验证码商业级识别接口：https://yescaptcha.com/i/NSwk7i\n"
     ]
    }
   ],
   "source": [
    "from src.browser import Browser\n",
    "\n",
    "browser = Browser()\n"
   ]
  },
  {
   "cell_type": "code",
   "execution_count": 4,
   "metadata": {},
   "outputs": [
    {
     "data": {
      "text/plain": [
       "True"
      ]
     },
     "execution_count": 4,
     "metadata": {},
     "output_type": "execute_result"
    }
   ],
   "source": [
    "import os\n",
    "from dotenv import load_dotenv\n",
    "\n",
    "load_dotenv()\n",
    "\n",
    "browser.login(os.getenv(\"NCHU_ACCOUNT\"), os.getenv(\"NCHU_PASSWORD\"))  # type: ignore\n"
   ]
  },
  {
   "cell_type": "code",
   "execution_count": 5,
   "metadata": {},
   "outputs": [
    {
     "name": "stdout",
     "output_type": "stream",
     "text": [
      "Downloaded 1/74 images\n",
      "Downloaded 2/74 images\n",
      "Downloaded 3/74 images\n",
      "Downloaded 4/74 images\n",
      "Downloaded 5/74 images\n",
      "Downloaded 6/74 images\n",
      "Downloaded 7/74 images\n",
      "Downloaded 8/74 images\n",
      "Downloaded 9/74 images\n",
      "Downloaded 10/74 images\n",
      "Downloaded 11/74 images\n",
      "Downloaded 12/74 images\n",
      "Downloaded 13/74 images\n",
      "Downloaded 14/74 images\n",
      "Downloaded 15/74 images\n",
      "Downloaded 16/74 images\n",
      "Downloaded 17/74 images\n",
      "Downloaded 18/74 images\n",
      "Downloaded 19/74 images\n",
      "Downloaded 20/74 images\n",
      "Downloaded 21/74 images\n",
      "Downloaded 22/74 images\n",
      "Downloaded 23/74 images\n",
      "Downloaded 24/74 images\n",
      "Downloaded 25/74 images\n",
      "Downloaded 26/74 images\n",
      "Downloaded 27/74 images\n",
      "Downloaded 28/74 images\n",
      "Downloaded 29/74 images\n",
      "Downloaded 30/74 images\n",
      "Downloaded 31/74 images\n",
      "Downloaded 32/74 images\n",
      "Downloaded 33/74 images\n",
      "Downloaded 34/74 images\n",
      "Downloaded 35/74 images\n",
      "Downloaded 36/74 images\n",
      "Downloaded 37/74 images\n",
      "Downloaded 38/74 images\n",
      "Downloaded 39/74 images\n",
      "Downloaded 40/74 images\n",
      "Downloaded 41/74 images\n",
      "Downloaded 42/74 images\n",
      "Downloaded 43/74 images\n",
      "Downloaded 44/74 images\n",
      "Downloaded 45/74 images\n",
      "Downloaded 46/74 images\n",
      "Downloaded 47/74 images\n",
      "Downloaded 48/74 images\n",
      "Downloaded 49/74 images\n",
      "Downloaded 50/74 images\n",
      "Downloaded 51/74 images\n",
      "Downloaded 52/74 images\n",
      "Downloaded 53/74 images\n",
      "Downloaded 54/74 images\n",
      "Downloaded 55/74 images\n",
      "Downloaded 56/74 images\n",
      "Downloaded 57/74 images\n",
      "Downloaded 58/74 images\n",
      "Downloaded 59/74 images\n",
      "Downloaded 60/74 images\n",
      "Downloaded 61/74 images\n",
      "Downloaded 62/74 images\n",
      "Downloaded 63/74 images\n",
      "Downloaded 64/74 images\n",
      "Downloaded 65/74 images\n",
      "Downloaded 66/74 images\n",
      "Downloaded 67/74 images\n",
      "Downloaded 68/74 images\n",
      "Downloaded 69/74 images\n",
      "Downloaded 70/74 images\n",
      "Downloaded 71/74 images\n",
      "Downloaded 72/74 images\n",
      "Downloaded 73/74 images\n",
      "Downloaded 74/74 images\n",
      "已生成 PDF 檔案：slides/lecture 2 python numpy/簡報.pdf\n"
     ]
    },
    {
     "data": {
      "text/plain": [
       "True"
      ]
     },
     "execution_count": 5,
     "metadata": {},
     "output_type": "execute_result"
    }
   ],
   "source": [
    "browser.get_slides(\"https://lms2020.nchu.edu.tw/media/doc/241050\")\n"
   ]
  },
  {
   "cell_type": "code",
   "execution_count": null,
   "metadata": {},
   "outputs": [],
   "source": []
  }
 ],
 "metadata": {
  "kernelspec": {
   "display_name": ".venv",
   "language": "python",
   "name": "python3"
  },
  "language_info": {
   "codemirror_mode": {
    "name": "ipython",
    "version": 3
   },
   "file_extension": ".py",
   "mimetype": "text/x-python",
   "name": "python",
   "nbconvert_exporter": "python",
   "pygments_lexer": "ipython3",
   "version": "3.12.6"
  }
 },
 "nbformat": 4,
 "nbformat_minor": 2
}
